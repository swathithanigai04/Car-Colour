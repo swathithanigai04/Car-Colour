{
 "cells": [
  {
   "cell_type": "code",
   "execution_count": 1,
   "id": "2b04b62f-eac4-4f2c-90a1-e1a6d80a95fb",
   "metadata": {},
   "outputs": [],
   "source": [
    "import os\n",
    "import cv2\n",
    "import numpy as np\n",
    "import matplotlib.pyplot as plt\n",
    "from sklearn.metrics import classification_report, confusion_matrix\n",
    "from tensorflow.keras.preprocessing.image import ImageDataGenerator\n",
    "from tensorflow.keras.applications import MobileNetV2\n",
    "from tensorflow.keras.models import Model\n",
    "from tensorflow.keras.layers import Dense, GlobalAveragePooling2D\n",
    "from tensorflow.keras.optimizers import Adam\n",
    "from tensorflow.keras.callbacks import EarlyStopping"
   ]
  },
  {
   "cell_type": "code",
   "execution_count": 2,
   "id": "88e4092d-07c7-4d70-8754-07f209ba8d91",
   "metadata": {},
   "outputs": [],
   "source": [
    "# Load the dataset"
   ]
  },
  {
   "cell_type": "code",
   "execution_count": 3,
   "id": "8684fc11-e271-41f0-93ea-18d66975cf32",
   "metadata": {},
   "outputs": [],
   "source": [
    "train_path = r\"D:\\Swathi\\Car colour\\train\"\n",
    "val_path = r\"D:\\Swathi\\Car colour\\val\"\n",
    "test_path = r\"D:\\Swathi\\Car colour\\test\""
   ]
  },
  {
   "cell_type": "code",
   "execution_count": 42,
   "id": "43762da2-f19d-40eb-9e9a-8c3705ee2a73",
   "metadata": {},
   "outputs": [],
   "source": [
    "# Preprocess data"
   ]
  },
  {
   "cell_type": "code",
   "execution_count": 5,
   "id": "ba726f54-dfd2-4830-acaa-7c09f9173481",
   "metadata": {},
   "outputs": [
    {
     "name": "stdout",
     "output_type": "stream",
     "text": [
      "Found 7267 images belonging to 15 classes.\n",
      "Found 1550 images belonging to 15 classes.\n",
      "Found 1556 images belonging to 15 classes.\n"
     ]
    }
   ],
   "source": [
    "IMG_SIZE = (224, 224)\n",
    "BATCH_SIZE = 32\n",
    "\n",
    "datagen = ImageDataGenerator(rescale=1./255)\n",
    "\n",
    "train_gen = datagen.flow_from_directory(\n",
    "    train_path,\n",
    "    target_size=IMG_SIZE,\n",
    "    batch_size=BATCH_SIZE,\n",
    "    class_mode='categorical')\n",
    "\n",
    "val_gen = datagen.flow_from_directory(\n",
    "    val_path,\n",
    "    target_size=IMG_SIZE,\n",
    "    batch_size=BATCH_SIZE,\n",
    "    class_mode='categorical')\n",
    "\n",
    "test_gen = datagen.flow_from_directory(\n",
    "    test_path,\n",
    "    target_size=IMG_SIZE,\n",
    "    batch_size=BATCH_SIZE,\n",
    "    class_mode='categorical',\n",
    "    shuffle=False)"
   ]
  },
  {
   "cell_type": "code",
   "execution_count": 40,
   "id": "3872a8a8-30bf-4eab-9465-4562afdbee6f",
   "metadata": {},
   "outputs": [],
   "source": [
    "# Create the model using transfer learning"
   ]
  },
  {
   "cell_type": "code",
   "execution_count": 7,
   "id": "96eda832-335f-4116-b445-7a38783433c5",
   "metadata": {},
   "outputs": [],
   "source": [
    "base_model = MobileNetV2(include_top=False, weights='imagenet', input_shape=(224, 224, 3))\n",
    "base_model.trainable = False\n",
    "\n",
    "x = base_model.output\n",
    "x = GlobalAveragePooling2D()(x)\n",
    "x = Dense(128, activation='relu')(x)\n",
    "predictions = Dense(train_gen.num_classes, activation='softmax')(x)\n",
    "\n",
    "model = Model(inputs=base_model.input, outputs=predictions)\n",
    "model.compile(optimizer=Adam(learning_rate=0.0001),\n",
    "              loss='categorical_crossentropy',\n",
    "              metrics=['accuracy'])"
   ]
  },
  {
   "cell_type": "code",
   "execution_count": 38,
   "id": "24beaaa3-607e-4c02-a4ba-e946ec38b6a1",
   "metadata": {},
   "outputs": [],
   "source": [
    "# Train the model"
   ]
  },
  {
   "cell_type": "code",
   "execution_count": 9,
   "id": "6cfed7d9-c672-46cc-a4c6-3e3d1f6831ef",
   "metadata": {},
   "outputs": [
    {
     "name": "stderr",
     "output_type": "stream",
     "text": [
      "C:\\Users\\Dell\\anaconda3\\Lib\\site-packages\\keras\\src\\trainers\\data_adapters\\py_dataset_adapter.py:121: UserWarning: Your `PyDataset` class should call `super().__init__(**kwargs)` in its constructor. `**kwargs` can include `workers`, `use_multiprocessing`, `max_queue_size`. Do not pass these arguments to `fit()`, as they will be ignored.\n",
      "  self._warn_if_super_not_called()\n"
     ]
    },
    {
     "name": "stdout",
     "output_type": "stream",
     "text": [
      "Epoch 1/30\n",
      "\u001b[1m228/228\u001b[0m \u001b[32m━━━━━━━━━━━━━━━━━━━━\u001b[0m\u001b[37m\u001b[0m \u001b[1m323s\u001b[0m 1s/step - accuracy: 0.1370 - loss: 2.6787 - val_accuracy: 0.2103 - val_loss: 2.4507 - learning_rate: 1.0000e-05\n",
      "Epoch 2/30\n",
      "\u001b[1m228/228\u001b[0m \u001b[32m━━━━━━━━━━━━━━━━━━━━\u001b[0m\u001b[37m\u001b[0m \u001b[1m215s\u001b[0m 943ms/step - accuracy: 0.4506 - loss: 1.9364 - val_accuracy: 0.3968 - val_loss: 1.9779 - learning_rate: 1.0000e-05\n",
      "Epoch 3/30\n",
      "\u001b[1m228/228\u001b[0m \u001b[32m━━━━━━━━━━━━━━━━━━━━\u001b[0m\u001b[37m\u001b[0m \u001b[1m216s\u001b[0m 946ms/step - accuracy: 0.5947 - loss: 1.3920 - val_accuracy: 0.4916 - val_loss: 1.5872 - learning_rate: 1.0000e-05\n",
      "Epoch 4/30\n",
      "\u001b[1m228/228\u001b[0m \u001b[32m━━━━━━━━━━━━━━━━━━━━\u001b[0m\u001b[37m\u001b[0m \u001b[1m216s\u001b[0m 947ms/step - accuracy: 0.6914 - loss: 1.0697 - val_accuracy: 0.5684 - val_loss: 1.2953 - learning_rate: 1.0000e-05\n",
      "Epoch 5/30\n",
      "\u001b[1m228/228\u001b[0m \u001b[32m━━━━━━━━━━━━━━━━━━━━\u001b[0m\u001b[37m\u001b[0m \u001b[1m216s\u001b[0m 946ms/step - accuracy: 0.7412 - loss: 0.8809 - val_accuracy: 0.6465 - val_loss: 1.0892 - learning_rate: 1.0000e-05\n",
      "Epoch 6/30\n",
      "\u001b[1m228/228\u001b[0m \u001b[32m━━━━━━━━━━━━━━━━━━━━\u001b[0m\u001b[37m\u001b[0m \u001b[1m220s\u001b[0m 965ms/step - accuracy: 0.7737 - loss: 0.7451 - val_accuracy: 0.6781 - val_loss: 0.9607 - learning_rate: 1.0000e-05\n",
      "Epoch 7/30\n",
      "\u001b[1m228/228\u001b[0m \u001b[32m━━━━━━━━━━━━━━━━━━━━\u001b[0m\u001b[37m\u001b[0m \u001b[1m222s\u001b[0m 975ms/step - accuracy: 0.8042 - loss: 0.6343 - val_accuracy: 0.7200 - val_loss: 0.8558 - learning_rate: 1.0000e-05\n",
      "Epoch 8/30\n",
      "\u001b[1m228/228\u001b[0m \u001b[32m━━━━━━━━━━━━━━━━━━━━\u001b[0m\u001b[37m\u001b[0m \u001b[1m222s\u001b[0m 974ms/step - accuracy: 0.8313 - loss: 0.5608 - val_accuracy: 0.7432 - val_loss: 0.7892 - learning_rate: 1.0000e-05\n",
      "Epoch 9/30\n",
      "\u001b[1m228/228\u001b[0m \u001b[32m━━━━━━━━━━━━━━━━━━━━\u001b[0m\u001b[37m\u001b[0m \u001b[1m224s\u001b[0m 980ms/step - accuracy: 0.8553 - loss: 0.4900 - val_accuracy: 0.7561 - val_loss: 0.7457 - learning_rate: 1.0000e-05\n",
      "Epoch 10/30\n",
      "\u001b[1m228/228\u001b[0m \u001b[32m━━━━━━━━━━━━━━━━━━━━\u001b[0m\u001b[37m\u001b[0m \u001b[1m223s\u001b[0m 978ms/step - accuracy: 0.8736 - loss: 0.4485 - val_accuracy: 0.7671 - val_loss: 0.7040 - learning_rate: 1.0000e-05\n",
      "Epoch 11/30\n",
      "\u001b[1m228/228\u001b[0m \u001b[32m━━━━━━━━━━━━━━━━━━━━\u001b[0m\u001b[37m\u001b[0m \u001b[1m222s\u001b[0m 975ms/step - accuracy: 0.8871 - loss: 0.3981 - val_accuracy: 0.7716 - val_loss: 0.6830 - learning_rate: 1.0000e-05\n",
      "Epoch 12/30\n",
      "\u001b[1m228/228\u001b[0m \u001b[32m━━━━━━━━━━━━━━━━━━━━\u001b[0m\u001b[37m\u001b[0m \u001b[1m223s\u001b[0m 975ms/step - accuracy: 0.9154 - loss: 0.3389 - val_accuracy: 0.7723 - val_loss: 0.6649 - learning_rate: 1.0000e-05\n",
      "Epoch 13/30\n",
      "\u001b[1m228/228\u001b[0m \u001b[32m━━━━━━━━━━━━━━━━━━━━\u001b[0m\u001b[37m\u001b[0m \u001b[1m223s\u001b[0m 979ms/step - accuracy: 0.9131 - loss: 0.3252 - val_accuracy: 0.7884 - val_loss: 0.6447 - learning_rate: 1.0000e-05\n",
      "Epoch 14/30\n",
      "\u001b[1m228/228\u001b[0m \u001b[32m━━━━━━━━━━━━━━━━━━━━\u001b[0m\u001b[37m\u001b[0m \u001b[1m223s\u001b[0m 976ms/step - accuracy: 0.9277 - loss: 0.2924 - val_accuracy: 0.7929 - val_loss: 0.6327 - learning_rate: 1.0000e-05\n",
      "Epoch 15/30\n",
      "\u001b[1m228/228\u001b[0m \u001b[32m━━━━━━━━━━━━━━━━━━━━\u001b[0m\u001b[37m\u001b[0m \u001b[1m224s\u001b[0m 981ms/step - accuracy: 0.9325 - loss: 0.2633 - val_accuracy: 0.7935 - val_loss: 0.6342 - learning_rate: 1.0000e-05\n",
      "Epoch 16/30\n",
      "\u001b[1m228/228\u001b[0m \u001b[32m━━━━━━━━━━━━━━━━━━━━\u001b[0m\u001b[37m\u001b[0m \u001b[1m225s\u001b[0m 987ms/step - accuracy: 0.9526 - loss: 0.2248 - val_accuracy: 0.7955 - val_loss: 0.6235 - learning_rate: 1.0000e-05\n",
      "Epoch 17/30\n",
      "\u001b[1m228/228\u001b[0m \u001b[32m━━━━━━━━━━━━━━━━━━━━\u001b[0m\u001b[37m\u001b[0m \u001b[1m224s\u001b[0m 983ms/step - accuracy: 0.9618 - loss: 0.1991 - val_accuracy: 0.7955 - val_loss: 0.6169 - learning_rate: 1.0000e-05\n",
      "Epoch 18/30\n",
      "\u001b[1m228/228\u001b[0m \u001b[32m━━━━━━━━━━━━━━━━━━━━\u001b[0m\u001b[37m\u001b[0m \u001b[1m238s\u001b[0m 1s/step - accuracy: 0.9700 - loss: 0.1701 - val_accuracy: 0.7981 - val_loss: 0.6208 - learning_rate: 1.0000e-05\n",
      "Epoch 19/30\n",
      "\u001b[1m228/228\u001b[0m \u001b[32m━━━━━━━━━━━━━━━━━━━━\u001b[0m\u001b[37m\u001b[0m \u001b[1m312s\u001b[0m 1s/step - accuracy: 0.9720 - loss: 0.1490 - val_accuracy: 0.7955 - val_loss: 0.6258 - learning_rate: 1.0000e-05\n",
      "Epoch 20/30\n",
      "\u001b[1m228/228\u001b[0m \u001b[32m━━━━━━━━━━━━━━━━━━━━\u001b[0m\u001b[37m\u001b[0m \u001b[1m224s\u001b[0m 982ms/step - accuracy: 0.9769 - loss: 0.1416 - val_accuracy: 0.7987 - val_loss: 0.6177 - learning_rate: 2.0000e-06\n",
      "Epoch 21/30\n",
      "\u001b[1m228/228\u001b[0m \u001b[32m━━━━━━━━━━━━━━━━━━━━\u001b[0m\u001b[37m\u001b[0m \u001b[1m224s\u001b[0m 982ms/step - accuracy: 0.9781 - loss: 0.1363 - val_accuracy: 0.7987 - val_loss: 0.6146 - learning_rate: 2.0000e-06\n",
      "Epoch 22/30\n",
      "\u001b[1m228/228\u001b[0m \u001b[32m━━━━━━━━━━━━━━━━━━━━\u001b[0m\u001b[37m\u001b[0m \u001b[1m225s\u001b[0m 988ms/step - accuracy: 0.9826 - loss: 0.1252 - val_accuracy: 0.7981 - val_loss: 0.6147 - learning_rate: 2.0000e-06\n",
      "Epoch 23/30\n",
      "\u001b[1m228/228\u001b[0m \u001b[32m━━━━━━━━━━━━━━━━━━━━\u001b[0m\u001b[37m\u001b[0m \u001b[1m224s\u001b[0m 984ms/step - accuracy: 0.9867 - loss: 0.1172 - val_accuracy: 0.7987 - val_loss: 0.6137 - learning_rate: 2.0000e-06\n",
      "Epoch 24/30\n",
      "\u001b[1m228/228\u001b[0m \u001b[32m━━━━━━━━━━━━━━━━━━━━\u001b[0m\u001b[37m\u001b[0m \u001b[1m226s\u001b[0m 992ms/step - accuracy: 0.9809 - loss: 0.1226 - val_accuracy: 0.8013 - val_loss: 0.6115 - learning_rate: 2.0000e-06\n",
      "Epoch 25/30\n",
      "\u001b[1m228/228\u001b[0m \u001b[32m━━━━━━━━━━━━━━━━━━━━\u001b[0m\u001b[37m\u001b[0m \u001b[1m226s\u001b[0m 990ms/step - accuracy: 0.9809 - loss: 0.1174 - val_accuracy: 0.8045 - val_loss: 0.6126 - learning_rate: 2.0000e-06\n",
      "Epoch 26/30\n",
      "\u001b[1m228/228\u001b[0m \u001b[32m━━━━━━━━━━━━━━━━━━━━\u001b[0m\u001b[37m\u001b[0m \u001b[1m225s\u001b[0m 985ms/step - accuracy: 0.9815 - loss: 0.1204 - val_accuracy: 0.8039 - val_loss: 0.6133 - learning_rate: 2.0000e-06\n",
      "Epoch 27/30\n",
      "\u001b[1m228/228\u001b[0m \u001b[32m━━━━━━━━━━━━━━━━━━━━\u001b[0m\u001b[37m\u001b[0m \u001b[1m225s\u001b[0m 987ms/step - accuracy: 0.9809 - loss: 0.1189 - val_accuracy: 0.8032 - val_loss: 0.6135 - learning_rate: 4.0000e-07\n",
      "Epoch 28/30\n",
      "\u001b[1m228/228\u001b[0m \u001b[32m━━━━━━━━━━━━━━━━━━━━\u001b[0m\u001b[37m\u001b[0m \u001b[1m225s\u001b[0m 986ms/step - accuracy: 0.9861 - loss: 0.1123 - val_accuracy: 0.8039 - val_loss: 0.6138 - learning_rate: 4.0000e-07\n",
      "Epoch 29/30\n",
      "\u001b[1m228/228\u001b[0m \u001b[32m━━━━━━━━━━━━━━━━━━━━\u001b[0m\u001b[37m\u001b[0m \u001b[1m226s\u001b[0m 990ms/step - accuracy: 0.9891 - loss: 0.1076 - val_accuracy: 0.8032 - val_loss: 0.6140 - learning_rate: 8.0000e-08\n"
     ]
    }
   ],
   "source": [
    "from tensorflow.keras.callbacks import EarlyStopping, ReduceLROnPlateau\n",
    "\n",
    "base_model.trainable = True\n",
    "for layer in base_model.layers[:100]:\n",
    "    layer.trainable = False\n",
    "\n",
    "model.compile(optimizer=Adam(learning_rate=1e-5), \n",
    "              loss='categorical_crossentropy',\n",
    "              metrics=['accuracy'])\n",
    "\n",
    "callbacks = [\n",
    "    EarlyStopping(patience=5, restore_best_weights=True),\n",
    "    ReduceLROnPlateau(monitor='val_loss', factor=0.2, patience=2)\n",
    "]\n",
    "\n",
    "history = model.fit(\n",
    "    train_gen,\n",
    "    validation_data=val_gen,\n",
    "    epochs=30,\n",
    "    callbacks=callbacks\n",
    ")\n"
   ]
  },
  {
   "cell_type": "code",
   "execution_count": 36,
   "id": "f3fc4df8-b8df-476a-8246-aad214044f25",
   "metadata": {},
   "outputs": [],
   "source": [
    "# Evaluate the model"
   ]
  },
  {
   "cell_type": "code",
   "execution_count": 11,
   "id": "3c91d909-f431-406a-80e6-37cf8e89b18e",
   "metadata": {},
   "outputs": [
    {
     "name": "stdout",
     "output_type": "stream",
     "text": [
      "\u001b[1m49/49\u001b[0m \u001b[32m━━━━━━━━━━━━━━━━━━━━\u001b[0m\u001b[37m\u001b[0m \u001b[1m43s\u001b[0m 884ms/step - accuracy: 0.7402 - loss: 0.7003\n",
      "Test Accuracy: 77.31%\n",
      "\u001b[1m49/49\u001b[0m \u001b[32m━━━━━━━━━━━━━━━━━━━━\u001b[0m\u001b[37m\u001b[0m \u001b[1m30s\u001b[0m 560ms/step\n",
      "Classification Report\n",
      "              precision    recall  f1-score   support\n",
      "\n",
      "       beige       0.47      0.53      0.50        90\n",
      "       black       0.78      0.83      0.80        87\n",
      "        blue       0.90      0.94      0.92       159\n",
      "       brown       0.70      0.70      0.70       121\n",
      "        gold       0.63      0.42      0.51        45\n",
      "       green       0.89      0.83      0.86       121\n",
      "        grey       0.58      0.58      0.58        92\n",
      "      orange       0.93      0.88      0.90       114\n",
      "        pink       0.89      0.89      0.89       103\n",
      "      purple       0.82      0.67      0.74       115\n",
      "         red       0.85      0.93      0.89       136\n",
      "      silver       0.60      0.58      0.59        77\n",
      "         tan       0.48      0.51      0.50        86\n",
      "       white       0.82      0.84      0.83        86\n",
      "      yellow       0.91      0.96      0.93       124\n",
      "\n",
      "    accuracy                           0.77      1556\n",
      "   macro avg       0.75      0.74      0.74      1556\n",
      "weighted avg       0.77      0.77      0.77      1556\n",
      "\n",
      "Confusion Matrix\n",
      "[[ 48   0   0   4   0   0   4   0   0   0   0   6  27   1   0]\n",
      " [  0  72   2   2   0   0   9   0   0   1   0   0   0   0   1]\n",
      " [  0   2 149   0   0   1   2   0   0   3   0   0   1   1   0]\n",
      " [  5   8   0  85   6   0   5   2   1   4   0   1   3   1   0]\n",
      " [  7   1   0   7  19   0   0   0   1   0   0   0   5   0   5]\n",
      " [  0   0   4   2   0 101   3   1   0   5   0   0   1   0   4]\n",
      " [  4   4   5   9   1   0  53   0   1   2   0  10   2   1   0]\n",
      " [  0   0   0   1   1   0   0 100   0   0  10   0   0   0   2]\n",
      " [  1   0   0   0   0   0   0   0  92   1   8   0   0   1   0]\n",
      " [  0   4   6   8   0   9   4   0   3  77   4   0   0   0   0]\n",
      " [  0   0   0   0   0   0   0   4   5   0 127   0   0   0   0]\n",
      " [  7   1   0   0   0   0  10   0   0   0   0  45   5   9   0]\n",
      " [ 28   0   0   3   1   0   2   0   0   1   0   5  44   2   0]\n",
      " [  3   0   0   0   0   0   0   0   0   0   0   8   3  72   0]\n",
      " [  0   0   0   0   2   3   0   0   0   0   0   0   0   0 119]]\n"
     ]
    }
   ],
   "source": [
    "loss, accuracy = model.evaluate(test_gen)\n",
    "print(f\"Test Accuracy: {accuracy*100:.2f}%\")\n",
    "\n",
    "predictions = model.predict(test_gen)\n",
    "y_pred = np.argmax(predictions, axis=1)\n",
    "y_true = test_gen.classes\n",
    "\n",
    "print(\"Classification Report\")\n",
    "print(classification_report(y_true, y_pred, target_names=list(test_gen.class_indices.keys())))\n",
    "\n",
    "print(\"Confusion Matrix\")\n",
    "print(confusion_matrix(y_true, y_pred))"
   ]
  },
  {
   "cell_type": "code",
   "execution_count": 34,
   "id": "9e144432-2091-46f8-9103-8e06e4400520",
   "metadata": {},
   "outputs": [],
   "source": [
    "# Save the model"
   ]
  },
  {
   "cell_type": "code",
   "execution_count": 13,
   "id": "4169995b-1064-4dde-a579-aef7c35373ab",
   "metadata": {},
   "outputs": [
    {
     "name": "stderr",
     "output_type": "stream",
     "text": [
      "WARNING:absl:You are saving your model as an HDF5 file via `model.save()` or `keras.saving.save_model(model)`. This file format is considered legacy. We recommend using instead the native Keras format, e.g. `model.save('my_model.keras')` or `keras.saving.save_model(model, 'my_model.keras')`. \n"
     ]
    }
   ],
   "source": [
    "model.save(\"saved_model/car_color_classifier.h5\")"
   ]
  },
  {
   "cell_type": "code",
   "execution_count": null,
   "id": "dc302833-e724-4c18-af8b-224b88aac213",
   "metadata": {},
   "outputs": [],
   "source": []
  }
 ],
 "metadata": {
  "kernelspec": {
   "display_name": "Python 3 (ipykernel)",
   "language": "python",
   "name": "python3"
  },
  "language_info": {
   "codemirror_mode": {
    "name": "ipython",
    "version": 3
   },
   "file_extension": ".py",
   "mimetype": "text/x-python",
   "name": "python",
   "nbconvert_exporter": "python",
   "pygments_lexer": "ipython3",
   "version": "3.12.7"
  }
 },
 "nbformat": 4,
 "nbformat_minor": 5
}
